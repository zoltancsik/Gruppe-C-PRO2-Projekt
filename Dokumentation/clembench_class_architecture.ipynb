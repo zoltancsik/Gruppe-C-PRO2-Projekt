{
 "cells": [
  {
   "cell_type": "markdown",
   "metadata": {},
   "source": [
    "# The Class architecture of ClemGame"
   ]
  },
  {
   "cell_type": "markdown",
   "metadata": {},
   "source": [
    "Starting off, below is a UML representation of how the ClemGame classes are connected to each other: <br>\n",
    "___\n",
    "<img src=\"utils/clem_game_classes.png\" width=\"1600\">"
   ]
  },
  {
   "cell_type": "markdown",
   "metadata": {},
   "source": [
    "# `GameResourceLocator`\n",
    "___\n",
    "- This is the main class in the ClemGame Architecture. `(abc.ABC):` It's an abstract class that should be subclassed <br>\n",
    "As the Diagram above shows, almost all classes in ClemGame are inheriting this class.\n",
    "- It provides methods to access, load and store files from the game directory, like **json**, **csv**, **template**. <br>\n",
    "- This class knows how to refer to files, so it (and its subclasses) should be used during the implementation.\n",
    "- **Game-Specific Context:** <br> The class manages resources based on the specific game's name passed during initialization **(self.name)**.\n",
    "    - All resource operations are relative to this game context."
   ]
  },
  {
   "cell_type": "markdown",
   "metadata": {},
   "source": [
    "# `GameBenchMark`\n",
    "___\n",
    "The class is designed to organize and manage mutiple game instances as part of a benchmark. <br>\n",
    "It supports setting up different experimental conditions for games and running them sequentially. <br>\n",
    "The `setup()`Method loads instances from **instances.json**<br>\n",
    "\n",
    "**Other Important Methods**\n",
    "- build_transcripts(): Transcribes each interaction\n",
    "- compute_scores(): Processes game results, computes scores\n",
    "- run(): Executes a sequence of game instances from **instances.json**"
   ]
  },
  {
   "cell_type": "markdown",
   "metadata": {},
   "source": [
    "# `GameInstanceGenerator`\n",
    "___\n",
    "Responsible for generating `instances.json`, with methods:\n",
    "- add_experiment(): Sets up new experiment\n",
    "- add_game_instance(): After creating an experiment, add instances to it\n",
    "    - Each instance has a unique `game_id` and can have more specific variables\n",
    "- generate(): It calls the `on_generate()` Method, which is meant to be overwritten by game-specific logic"
   ]
  },
  {
   "cell_type": "markdown",
   "metadata": {},
   "source": [
    "# `GameScorer`\n",
    "It maintains a scores dictionary with two components: **turn_scores** and **episode_scores**. <br>\n",
    "It executes various calculations on turn/episode/game levels and stores them.\n"
   ]
  },
  {
   "cell_type": "markdown",
   "metadata": {},
   "source": [
    "# `GameRecorder`\n",
    "___\n",
    "- Inherits from GameResourceLocator and extends on it with the following (most notable) Features:\n",
    "- Logging Interactions, Player info, Turn info and so on\n",
    "- API Call logging\n",
    "- Storing logs"
   ]
  },
  {
   "cell_type": "markdown",
   "metadata": {},
   "source": [
    "# `GameMaster`\n",
    "- Subclass of GameRecorder.\n",
    "- Accepts a **scores** dictionary and an optional list of `player_models`\n",
    "- Comes with two abstract methods that need to be implemented by any subclasses (`setup,play`)"
   ]
  },
  {
   "cell_type": "markdown",
   "metadata": {},
   "source": [
    "# `DialogueGameMaster`\n",
    "- Inherits from **GameMaster** and is specifically designed to implement turn-based dialogue games."
   ]
  }
 ],
 "metadata": {
  "kernelspec": {
   "display_name": "venv",
   "language": "python",
   "name": "python3"
  },
  "language_info": {
   "codemirror_mode": {
    "name": "ipython",
    "version": 3
   },
   "file_extension": ".py",
   "mimetype": "text/x-python",
   "name": "python",
   "nbconvert_exporter": "python",
   "pygments_lexer": "ipython3",
   "version": "3.10.12"
  }
 },
 "nbformat": 4,
 "nbformat_minor": 2
}
