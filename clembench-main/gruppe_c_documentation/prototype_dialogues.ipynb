{
 "cells": [
  {
   "cell_type": "markdown",
   "metadata": {},
   "source": [
    "# Prototyping Dialogue Games\n",
    "This notebook is following the tutorial steps from **docs/howto_prototype_games.ipynb** with some more detailed description of each step (when necessary)"
   ]
  },
  {
   "cell_type": "code",
   "execution_count": null,
   "metadata": {},
   "outputs": [],
   "source": [
    "import sys\n",
    "from string import Template\n",
    "from backends import ModelSpec, Model, get_model_for, load_model_registry\n",
    "\n",
    "\n",
    "load_model_registry()  # load default model registry from backends folder\n",
    "THIS_MODEL = 'gpt-4o-mini-2024-07-18'\n",
    "llm: Model = get_model_for(THIS_MODEL)\n",
    "\n",
    "llm.set_gen_args(temperature=0.0, max_tokens=100)\n",
    "llm.generate_response"
   ]
  }
 ],
 "metadata": {
  "language_info": {
   "name": "python"
  }
 },
 "nbformat": 4,
 "nbformat_minor": 2
}
