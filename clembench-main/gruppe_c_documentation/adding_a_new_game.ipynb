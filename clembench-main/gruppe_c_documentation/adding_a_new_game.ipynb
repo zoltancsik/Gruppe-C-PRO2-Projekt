{
 "cells": [
  {
   "cell_type": "markdown",
   "metadata": {},
   "source": [
    "# How to Add a New Game\n",
    "\n",
    "The Benchmark is run for a particular game with **python scripts/cli.py run -g game -m model** <br>\n",
    "- If only one model is defined for a two player game, it will represent both players."
   ]
  }
 ],
 "metadata": {
  "language_info": {
   "name": "python"
  }
 },
 "nbformat": 4,
 "nbformat_minor": 2
}
