{
 "cells": [
  {
   "cell_type": "markdown",
   "metadata": {},
   "source": [
    "# How to Add a New Game\n",
    "\n",
    "### Disclaimer\n",
    "This notebook closely follows the tutorial steps from [docs/howto_add_games.md](https://github.com/clp-research/clembench/blob/main/docs/howto_add_games.md)\n",
    " in the [**clp-research/clembench**](https://github.com/clp-research/clembench) repository. <br> \n",
    "While the core content is derived from the original tutorial, some additional detailed descriptions and explanations have been added to serve as a source of knowledge during the development of our project."
   ]
  },
  {
   "cell_type": "markdown",
   "metadata": {},
   "source": [
    "## The GameBenchMark Class\n",
    "The Benchmark is run for a particular game with **python scripts/cli.py run -g game -m model** <br>\n",
    "- If only one model is defined for a two player game, it will represent both players.\n",
    "\n",
    "## Execution\n",
    "- When the run command is executed, the run routine in `benchmark.py` will determine the game code that needs to be invoked.\n",
    "- The benchmark code loads all subclasses that inherit from GameBenchMark and calls `setup` on them.\n",
    "- The setup method already loads the game instances **-->** every subclass is asked if it applies to the given name.\n",
    "- That means, there has to be a subclass like the following for each game\n",
    "- The subclass provides `GAME_NAME=taboo` and the rest is taken care of by the SuperClass\n",
    "- Then the benchmark code checks if your game is single or multiplayer game (the default is multi-player).\n",
    "- Then the run(dialog_pair,temperature) method is called by GameBenchmark.\n",
    "- This is when the GameMaster becomes relevant (which is returned by thr `create_game_master()` factory method)."
   ]
  },
  {
   "cell_type": "code",
   "execution_count": null,
   "metadata": {},
   "outputs": [],
   "source": [
    "class TabooGameBenchmark(GameBenchmark):\n",
    "\n",
    "    def __init__(self):\n",
    "        super().__init__(GAME_NAME)\n",
    "\n",
    "    def get_description(self):\n",
    "        return \"Taboo game between two agents where one has to describe a word for the other to guess.\"\n",
    "\n",
    "    def create_game_master(self, experiment: Dict, player_backends: List[str]) -> GameMaster:\n",
    "        return Taboo(experiment, player_backends)\n",
    "        \n",
    "    def is_single_player(self) -> bool:\n",
    "        return False"
   ]
  },
  {
   "cell_type": "markdown",
   "metadata": {},
   "source": [
    "#### `get_description method`\n",
    "This is returned when `python3 scripts/cli.py ls` is executed, see: <br>\n",
    "```\n",
    "2024-08-31 12:55:58,735 - benchmark.run - INFO - Listing benchmark games:\n",
    "2024-08-31 12:55:58,736 - benchmark.run - INFO -  Game: cloudgame -> A simple game in which a player has to decide whether they see clouds or not.\n",
    "2024-08-31 12:55:58,736 - benchmark.run - INFO -  Game: imagegame -> Image Game simulation to generate referring expressions and fill a grid accordingly\n",
    "2024-08-31 12:55:58,736 - benchmark.run - INFO -  Game: matchit -> A simple game in which two players have to decide whether they see the same image or not.\n",
    "2024-08-31 12:55:58,736 - benchmark.run - INFO -  Game: matchit -> A simple game in which two players have to decide whether they see the same image or not.\n",
    "2024-08-31 12:55:58,736 - benchmark.run - INFO -  Game: matchit -> A simple game in which two players have to decide whether they see the same image or not.\n",
    "2024-08-31 12:55:58,736 - benchmark.run - INFO -  Game: matchit -> A simple game in which two players have to decide whether they see the same image or not.\n",
    "2024-08-31 12:55:58,737 - benchmark.run - INFO -  Game: privateshared -> Questioner and answerer in scorekeeping game.\n",
    "2024-08-31 12:55:58,737 - benchmark.run - INFO -  Game: taboo -> Taboo game between two agents where one has to describe a word for the other to guess.\n",
    "2024-08-31 12:55:58,737 - benchmark.run - INFO -  Game: textmapworld -> Graph Game.\n",
    "2024-08-31 12:55:58,737 - benchmark.run - INFO -  Game: textmapworld_description -> Graph Game.\n",
    "2024-08-31 12:55:58,737 - benchmark.run - INFO -  Game: textmapworld_graphreasoning -> Graph Game.\n",
    "2024-08-31 12:55:58,737 - benchmark.run - INFO -  Game: textmapworld_questions -> Graph Game.\n",
    "2024-08-31 12:55:58,738 - benchmark.run - INFO -  Game: textmapworld_specificroom -> Graph Game.\n",
    "```"
   ]
  },
  {
   "cell_type": "markdown",
   "metadata": {},
   "source": [
    "## GameMaster Class\n",
    "- For each `experiment`in instances.json, that has been loaded with `on_setup()`, the game benchmark code applies the given dialog pair (or if not provided, tries to determine it based on instance information) <br>\n",
    "- Each experiment represents a specific condition for the game, like difficulity and holds the actual game instance. <br>\n",
    "- A `GameMaster` is created for each instance, by `self.create_gamemaster` method of the BenchMark. <br>\n",
    "- The `GameMaster`is in charge of playing a single isntance of the game <br>\n",
    "- For Taboo: Target word to be guessed, words that are not allowed to be said."
   ]
  },
  {
   "cell_type": "code",
   "execution_count": null,
   "metadata": {},
   "outputs": [],
   "source": [
    "try:\n",
    "   game_master = self.create_game_master(experiment_config, dialogue_pair)\n",
    "   # Recieve Game Information\n",
    "   game_master.setup(**game_instance)\n",
    "   # Coordinate actual Play\n",
    "   game_master.play()\n",
    "   # Stores the interactions between the players and GM in game_record_dir\n",
    "   game_master.store_records(game_id, game_record_dir)\n",
    "except Exception:  # continue with other episodes if something goes wrong\n",
    "   self.logger.exception(f\"{self.name}: Exception for episode {game_id} (but continue)\")"
   ]
  },
  {
   "cell_type": "markdown",
   "metadata": {},
   "source": [
    "## Relevant Classes\n"
   ]
  }
 ],
 "metadata": {
  "language_info": {
   "name": "python"
  }
 },
 "nbformat": 4,
 "nbformat_minor": 2
}
