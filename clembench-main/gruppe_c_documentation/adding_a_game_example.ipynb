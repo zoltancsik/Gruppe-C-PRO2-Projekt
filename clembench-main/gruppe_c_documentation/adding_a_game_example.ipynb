{
 "cells": [
  {
   "cell_type": "markdown",
   "metadata": {},
   "source": [
    "# Adding a new game to the framework - FirstLast\n",
    "\n",
    "- The players should engage in a turn-based conversation about a predefined topic. \n",
    "- Player A starts with an utterance whose first and last token must start with a `predefined letter`, say d. \n",
    "- Player B must then reply with an utterance whose first and last token must be the `next one in the alphabet` (here, an e). <br> <br>\n",
    "And so on, for n turns **(where each turn is comprised by an utterance from A and an utterance from B)**.<br> <br>\n",
    "- If an utterance does not conform to these rules (i.e. it is incorrect), the players lose the game. <br>\n",
    "- `move rule:` If an utterance does not start with 'I SAY: ' (i.e., it is invalid), the game is immediately aborted. <br>\n",
    "- If all utterances up to turn n are valid and correct, the game is successful.\n",
    "\n",
    "For instance, if the topic is **birds**, the initial letter is `h` and the number of turns is 2, this would be a successful game:\n",
    "\n",
    "- Hi! I love birds, but it's hard to identify them. I need help. `(h: hi / help)`\n",
    "- I know what you mean. I can try to help, please describe it. `(i: I/ it)`\n",
    "- Just a moment... Ok, it's blue but looks like an Eurasian jay. `(j: just / jay)`\n",
    "- Kick in more details, otherwise I don't know. `(k: kick / know)`\n",
    "\n",
    "Each turn, we need to check two aspects: \n",
    "- **MOVE_RULE**: Does the utterance start with 'I SAY'?\n",
    "- **GAME_RULE**: Do the first/last tokens start with `predefined_letter`?"
   ]
  },
  {
   "cell_type": "markdown",
   "metadata": {},
   "source": [
    "# Adding a new game:\n",
    "We will need at least the following components:\n",
    "- **Game resources:** all data, prompt templates and text files that are necessary to create instances of a game and to group these instances into experiments.\n",
    "- **Instances:** JSON containing the configuration of each instance, grouped into experiments. \n",
    "    - This must be done by a script named `instancegenerator.py`, with a class that inherits from `GameInstanceGenerator`.\n",
    "- **Game Master:** Controls and enforces MOVE/GAME Rules, inheriting from GameMaster. \n",
    "    - This must be implemented in a file `master.py`.\n",
    "- **Players:** Defines the programatic behaviour and any other attributes of a player, inheriting from `Player`.\n",
    "    - This can be implemented in a file named `players.py`.\n",
    "- **Game Benchmark:** a class that realises the game, inheriting from `GameBenchmark`. \n",
    "    - This can also live in the file `master.py`.\n",
    "\n",
    "To define an **Episode**, we have to instantiate the initial promopts and define 3 more parameters:\n",
    "- Topic\n",
    "- Letter\n",
    "- Number of Turns"
   ]
  },
  {
   "cell_type": "markdown",
   "metadata": {},
   "source": [
    "# Defining prompts with game rules\n",
    "- In the prompt template we can define variables that can be replaced later.\n",
    "- Prompts have to be adjusted for Player A and B, based on their roles."
   ]
  },
  {
   "cell_type": "code",
   "execution_count": null,
   "metadata": {},
   "outputs": [],
   "source": [
    "with open(path / 'resources' / 'initial_prompts' / 'initial_prompt_a.template', 'w') as file:\n",
    "    file.write(\n",
    "        \"Let's play a game. You must have a conversation about $topic with your partner. Your first turn must start and end with words that begin with the letter $letter. The reply of your partner must be similar, with the letter that comes after $letter in the alphabet. Then it's your turn again with the next letter, and so on. You'll do it for $nturns turns. Always start your utterance with I SAY: and then give your answer. If you break the rules, you lose.\"\n",
    "    ) \n",
    "\n",
    "with open(path / 'resources' / 'initial_prompts' /  'initial_prompt_b.template', 'w') as file:\n",
    "    file.write(\n",
    "        \"Let's play a game. You must have a conversation about $topic with your partner. Their first turn must start and end with words that begin with the letter $letter. Your reply must be similar, with the letter that comes after $letter in the alphabet. Then it's their turn again with the next letter, and so on. You'll do it for $nturns turns. Always start your utterance with I SAY: and then give your answer. If you break the rules, you lose.\"\n",
    "    ) "
   ]
  }
 ],
 "metadata": {
  "language_info": {
   "name": "python"
  }
 },
 "nbformat": 4,
 "nbformat_minor": 2
}
