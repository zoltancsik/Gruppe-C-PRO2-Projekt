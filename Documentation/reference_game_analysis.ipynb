{
 "cells": [
  {
   "cell_type": "markdown",
   "metadata": {},
   "source": [
    "# Reference Game - Analysis\n",
    "This Notebook describes the structure and functionality of the reference game (**clembench-main/games/referencegame**). <br>\n",
    "The Game consists of 3 main parts: **instancegenerator**, **master**, **game**. <br>\n",
    "The goal of this Notebook is:\n",
    "- Observe how the game is integrated into the framework\n",
    "- Which classes from ClemGame does it utilize\n",
    "- How is it computing the scores for later evaluation."
   ]
  },
  {
   "cell_type": "markdown",
   "metadata": {},
   "source": [
    "# game.py\n",
    "___\n",
    "\n",
    "#### **`Instruction Class`** <br>\n",
    "This class manages user and system messages, storing them in lists and offering methods to process, retrieve and serialize these messages. <br>\n",
    "This class is implemented **independently** from the Framework. <br> <br>\n",
    "Important Methods:\n",
    "- **convert_to_query_messages()**: Converts the stored user and system messages into a list of dictionaries.\n",
    "- **serialize()**: Serializes the conversation history into a list of dictionaries, where each dictionary contains one user message and its corresponding system message (if available).\n",
    "\n",
    "**Example Usage:** <br> <br>\n",
    "**Adding the Messages**\n",
    "```Python\n",
    "instr = Instruction()\n",
    "instr.add_user_message(\"What is the weather today?\")\n",
    "instr.add_system_message(\"It's sunny.\")\n",
    "```\n",
    "**Converting to Query**\n",
    "```Python\n",
    "instr.convert_to_query_messages()\n",
    "# Output:\n",
    "# [\n",
    "#   {\"role\": \"system\", \"content\": \"\"},\n",
    "#   {\"role\": \"user\", \"content\": \"What is the weather today?\"},\n",
    "#   {\"role\": \"assistant\", \"content\": \"It's sunny.\"}\n",
    "# ]\n",
    "```\n",
    "**Serializing the conversation**\n",
    "```Python\n",
    "instr.serialize()\n",
    "# Output:\n",
    "# [\n",
    "#   {\"user\": \"What is the weather today?\", \"assistant\": \"It's sunny.\"}\n",
    "# ]\n",
    "\n",
    "```\n",
    "___"
   ]
  },
  {
   "cell_type": "markdown",
   "metadata": {},
   "source": [
    "#### **`InstructionFollower and InstructionGiver`** <br>\n",
    "- Both classes inherit from the Player class and focus on processing instructions and responding to them.\n",
    "- The __call__() method in both classes utilizes `Instruction.convert_to_query_messages()` that can be handled by the parent class's __call__() method.\n",
    "\n",
    "```Python\n",
    " def __call__(self, instruction: Instruction, turn_idx):\n",
    "        return super().__call__(instruction.convert_to_query_messages(), turn_idx)\n",
    "```\n",
    "The **__call__** Method overrides the SuperClass **__call__** method and utilizes the `convert_query_to_messages()` method of the Instruction class, then passes the message along with **turn_idx** to the parent classes __call__ method\n",
    "___"
   ]
  },
  {
   "cell_type": "markdown",
   "metadata": {},
   "source": [
    "#### **`ReferenceGame`**\n",
    "Models a game where two players exchange instructions about grid-based tasks, with attributes to handle the game state, players, and their respective actions. <br>\n",
    "The InstructionGiver provides instructions, while the InstructionFollower follows them, and the game progresses through turns managed by the **turn_count** attribute. <br>\n",
    "\n",
    "**`proceeds()`** <br>\n",
    "This method always returns True, meaning that the game is always allowed to proceed. <br> \n",
    "In our game this would have to be dependent on some conditions. <br>"
   ]
  }
 ],
 "metadata": {
  "language_info": {
   "name": "python"
  }
 },
 "nbformat": 4,
 "nbformat_minor": 2
}
