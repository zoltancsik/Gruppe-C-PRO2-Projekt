{
 "cells": [
  {
   "cell_type": "markdown",
   "metadata": {},
   "source": [
    "# The Annotated Hellogame\n",
    "\n",
    "### Disclaimer\n",
    "This notebook closely follows the tutorial steps from **docs/the_annotated_hellogame.ipynb** in the [**clp-research/clembench**](https://github.com/clp-research/clembench) repository. <br> \n",
    "While the core content is derived from the original tutorial, some additional detailed descriptions and explanations have been added to serve as a source of knowledge during the development of our project.\n",
    "\n",
    "### Purpose\n",
    "This tutorial provides insight into how to add a game to the clembench distribution. <br> \n",
    "It uses all abstract classes, which is not a must, but handy if you would like to create output that is expected from the evaluating scripts.\n",
    "\n",
    "#### In this Setup:\n",
    "- Define in advance a number of game instances, like a target to guess in a guessing game.\n",
    "- Single standardized entry point for running the game, logging the results, and producing specific scores per episode, that will ultimately enter into the overall benchmark."
   ]
  },
  {
   "cell_type": "code",
   "execution_count": 1,
   "metadata": {},
   "outputs": [
    {
     "name": "stdout",
     "output_type": "stream",
     "text": [
      "\n",
      "      _                _                     _     \n",
      "     | |              | |                   | |    \n",
      "  ___| | ___ _ __ ___ | |__   ___ _ __   ___| |__  \n",
      " / __| |/ _ \\ '_ ` _ \\| '_ \\ / _ \\ '_ \\ / __| '_ \\ \n",
      "| (__| |  __/ | | | | | |_) |  __/ | | | (__| | | |\n",
      " \\___|_|\\___|_| |_| |_|_.__/ \\___|_| |_|\\___|_| |_|\n",
      "\n",
      "No module named 'imageio'\n"
     ]
    },
    {
     "name": "stderr",
     "output_type": "stream",
     "text": [
      "Cannot load 'games.mm_mapworld_specificroom.master'. Please make sure that the file exists.\n"
     ]
    },
    {
     "name": "stdout",
     "output_type": "stream",
     "text": [
      "No module named 'tiktoken'\n",
      "No module named 'imageio'\n",
      "No module named 'tiktoken'\n",
      "No module named 'imageio'\n",
      "No module named 'socketio'\n"
     ]
    },
    {
     "name": "stderr",
     "output_type": "stream",
     "text": [
      "Cannot load 'games.wordle_withcritic.master'. Please make sure that the file exists.\n",
      "Cannot load 'games.mm_mapworld_qa.master'. Please make sure that the file exists.\n",
      "Cannot load 'games.wordle.master'. Please make sure that the file exists.\n",
      "Cannot load 'games.mm_mapworld_graphs.master'. Please make sure that the file exists.\n",
      "Cannot load 'games.chatgame.master'. Please make sure that the file exists.\n"
     ]
    },
    {
     "name": "stdout",
     "output_type": "stream",
     "text": [
      "No module named 'tiktoken'\n",
      "No module named 'imageio'\n"
     ]
    },
    {
     "name": "stderr",
     "output_type": "stream",
     "text": [
      "Cannot load 'games.wordle_withclue.master'. Please make sure that the file exists.\n",
      "Cannot load 'games.mm_mapworld.master'. Please make sure that the file exists.\n"
     ]
    }
   ],
   "source": [
    "import string\n",
    "import sys\n",
    "from typing import Dict, List\n",
    "\n",
    "sys.path.append('/home/zoltan/Desktop/PROII/Gruppe-C-PRO2-Projekt/clembench-main')\n",
    "\n",
    "from backends import Model, CustomResponseModel, ModelSpec, load_model_registry, get_model_for\n",
    "from clemgame.clemgame import GameMaster, GameBenchmark, Player, DialogueGameMaster\n",
    "from clemgame import get_logger"
   ]
  },
  {
   "cell_type": "code",
   "execution_count": 2,
   "metadata": {},
   "outputs": [],
   "source": [
    "load_model_registry()\n",
    "logger = get_logger(__name__)"
   ]
  },
  {
   "cell_type": "code",
   "execution_count": 3,
   "metadata": {},
   "outputs": [],
   "source": [
    "GAME_NAME = \"hellogame\""
   ]
  },
  {
   "cell_type": "markdown",
   "metadata": {},
   "source": [
    "## HelloGame Class\n",
    "The functionality of the class is pretty straight forward. How it is inherited or being used by our game is potentially up to the structure of how we want to implement the game. <br>\n",
    "Cool thing: in the **_on_setup** method, game_instance is passed as an argument with two *s. <br> \n",
    "This basically means that the method can take additional keyword arguments. "
   ]
  },
  {
   "cell_type": "code",
   "execution_count": 4,
   "metadata": {},
   "outputs": [],
   "source": [
    "class HelloGame(DialogueGameMaster):\n",
    "    \"\"\"This class implements a greeting game in which player A\n",
    "    is greeting another player with a target name.\n",
    "    \"\"\"\n",
    "\n",
    "    def __init__(self, experiment: Dict, player_models: List[Model]):\n",
    "        super().__init__(GAME_NAME, experiment, player_models)\n",
    "        self.language: int = experiment[\"language\"]  # fetch experiment parameters here\n",
    "        self.turns = []\n",
    "        self.required_words = [\"welcome\", \"hello\"]\n",
    "        self.success = True\n",
    "\n",
    "    def _on_setup(self, **game_instance):\n",
    "        self.game_instance = game_instance  # fetch game parameters here\n",
    "\n",
    "        # Create the players\n",
    "        self.greeted = Greeted(game_instance[\"target_name\"])\n",
    "        self.greeter = Greeter(self.player_models[0])\n",
    "\n",
    "        # Add the players: these will be logged to the records interactions.json\n",
    "        # NOTE: During game play the players will be called in the order added here\n",
    "        self.add_player(self.greeter)\n",
    "        self.add_player(self.greeted)\n",
    "\n",
    "        self.required_words.append(self.greeted.name.lower())\n",
    "\n",
    "    def _on_before_game(self):\n",
    "        # Do something before the game start e.g. add the initial prompts to the message list for the players\n",
    "        self.add_user_message(self.greeter, self.game_instance[\"prompt\"])\n",
    "\n",
    "    def _does_game_proceed(self):\n",
    "        # Determine if the game should proceed. This is also called once initially.\n",
    "        if len(self.turns) == 0:\n",
    "            return True\n",
    "        return False\n",
    "\n",
    "    def _validate_player_response(self, player: Player, utterance: str) -> bool:\n",
    "        # Check responses for specific players\n",
    "        if player == self.greeter:\n",
    "            # Check rule: utterance starts with key word\n",
    "            if not utterance.startswith(\"GREET:\"):\n",
    "                self.success = False\n",
    "                return True\n",
    "            # Check rule: required words are included\n",
    "            utterance = utterance.lower()\n",
    "            utterance = utterance.translate(str.maketrans(\"\", \"\", string.punctuation))\n",
    "            for required_word in self.required_words:\n",
    "                if required_word not in utterance:\n",
    "                    self.success = False\n",
    "        return True\n",
    "\n",
    "    def _on_after_turn(self, turn_idx: int):\n",
    "        self.turns.append(self.success)\n",
    "\n",
    "    def _after_add_player_response(self, player: Player, utterance: str):\n",
    "        if player == self.greeter:\n",
    "            self.add_user_message(self.greeted, utterance)\n",
    "\n",
    "    def compute_scores(self) -> None:\n",
    "        score = 0\n",
    "        if self.success:\n",
    "            score = 1\n",
    "        self.log_episode_score('Accuracy', score)"
   ]
  },
  {
   "cell_type": "markdown",
   "metadata": {},
   "source": [
    "# Players\n",
    "Before actually initiating the **GameMaster**, it has to be defined what the players actually do. <br> \n",
    "One player is going to be the actual model **(the greeter)** and the other model is utilizing the generic **CustomResponseModel**, which is programmatic."
   ]
  },
  {
   "cell_type": "code",
   "execution_count": 5,
   "metadata": {},
   "outputs": [],
   "source": [
    "class Greeted(Player):\n",
    "\n",
    "    def __init__(self, name):\n",
    "        # In the SuperClass Player, there is a parameter self.model\n",
    "        # The Player class accepts an instance of CustomResponseModel through its model parameter,\n",
    "        # When super().__init__ is called, the constructor of the superclass is expecting a parameter (model)\n",
    "        # That is where CustomResponseModel gets instantiated.\n",
    "        super().__init__(CustomResponseModel())\n",
    "        self.name = name\n",
    "\n",
    "    def _custom_response(self, messages, turn_idx):\n",
    "        return f\"{self.name}: Hi, thanks for having me!\"\n",
    "\n",
    "\n",
    "class Greeter(Player):\n",
    "\n",
    "    def __init__(self, model: Model):\n",
    "        super().__init__(model)\n",
    "\n",
    "    def _custom_response(self, messages, turn_idx):\n",
    "        raise NotImplementedError(\"This should not be called, but the remote APIs.\")\n",
    "\n",
    "# NOTE: Look into the Player class in more detail"
   ]
  },
  {
   "cell_type": "markdown",
   "metadata": {},
   "source": [
    "## Fitting to the Benchmark\n",
    "- Now that there is a GameMaster and Player actions have been defined, the Game has to be fit into the benchmark.\n",
    "- The following defines a standard way to get to the game master when the benchmark is called:"
   ]
  },
  {
   "cell_type": "code",
   "execution_count": 6,
   "metadata": {},
   "outputs": [],
   "source": [
    "class HelloGameBenchmark(GameBenchmark):\n",
    "\n",
    "    def __init__(self):\n",
    "        # It gets a bit tricky here. This Class inherits from GameBenchmark, which inherits from GameResourceLocator\n",
    "        # GameResourceLocator has a parameter 'name'. This is what is being constructed here\n",
    "        # GameBenchmark calls its parent class to initialize the 'name' parameter\n",
    "        super().__init__(GAME_NAME)\n",
    "\n",
    "    def get_description(self):\n",
    "        return \"Hello game between a greeter and a greeted player\"\n",
    "\n",
    "    def create_game_master(self, experiment: Dict, player_models: List[Model]) -> GameMaster:\n",
    "        return HelloGame(experiment, player_models)"
   ]
  },
  {
   "cell_type": "code",
   "execution_count": 7,
   "metadata": {},
   "outputs": [
    {
     "data": {
      "text/plain": [
       "{'name': 'hellogame',\n",
       " 'logger': <Logger __main__ (INFO)>,\n",
       " 'log_current_turn': -1,\n",
       " 'interactions': {'players': {}, 'turns': []},\n",
       " 'requests': [],\n",
       " 'experiment': {'language': 'en'},\n",
       " 'player_models': [],\n",
       " 'players_by_names': OrderedDict(),\n",
       " 'messages_by_names': {},\n",
       " 'current_turn': 0,\n",
       " 'language': 'en',\n",
       " 'turns': [],\n",
       " 'required_words': ['welcome', 'hello'],\n",
       " 'success': True}"
      ]
     },
     "execution_count": 7,
     "metadata": {},
     "output_type": "execute_result"
    }
   ],
   "source": [
    "hgb = HelloGameBenchmark()\n",
    "hgm = hgb.create_game_master({\"language\": \"en\"}, [])\n",
    "hgm.__dict__ # __dict__ attribute of the hgm object. - A dictionary storing all attributes of the Object."
   ]
  },
  {
   "cell_type": "code",
   "execution_count": 8,
   "metadata": {},
   "outputs": [],
   "source": [
    "# NOTE: This will be merged into the object of the GameMaster class, see below.\n",
    "this_experiment = {\n",
    "      \"name\": \"greet_en\",\n",
    "      \"game_instances\": [\n",
    "        {\n",
    "          \"game_id\": 0,\n",
    "          \"prompt\": \"Your task is to greet and happily welcome the other person with the name:\\n\\nPeter\\n\\nRules:\\n\\n1. You must start your message with 'GREET:'\\n2. Your message must include 'Hello', 'welcome' and the other person's name\\n\\nImportant: You only have one try.\\n\\nLet's start.\",\n",
    "          \"target_name\": \"Peter\"\n",
    "        } ],\n",
    "      \"language\": \"en\"\n",
    "    }"
   ]
  },
  {
   "cell_type": "code",
   "execution_count": 9,
   "metadata": {},
   "outputs": [],
   "source": [
    "THIS_MODEL = 'gpt-4o-mini-2024-07-18'\n",
    "llm = get_model_for(THIS_MODEL)\n",
    "llm.set_gen_args(temperature = 0.0, max_tokens= 100) \n",
    "\n",
    "hgm = hgb.create_game_master(this_experiment, [llm])"
   ]
  },
  {
   "cell_type": "code",
   "execution_count": 10,
   "metadata": {},
   "outputs": [
    {
     "data": {
      "text/plain": [
       "{'name': 'hellogame',\n",
       " 'logger': <Logger __main__ (INFO)>,\n",
       " 'log_current_turn': -1,\n",
       " 'interactions': {'players': {}, 'turns': []},\n",
       " 'requests': [],\n",
       " 'experiment': {'name': 'greet_en',\n",
       "  'game_instances': [{'game_id': 0,\n",
       "    'prompt': \"Your task is to greet and happily welcome the other person with the name:\\n\\nPeter\\n\\nRules:\\n\\n1. You must start your message with 'GREET:'\\n2. Your message must include 'Hello', 'welcome' and the other person's name\\n\\nImportant: You only have one try.\\n\\nLet's start.\",\n",
       "    'target_name': 'Peter'}],\n",
       "  'language': 'en'},\n",
       " 'player_models': [gpt-4o-mini-2024-07-18],\n",
       " 'players_by_names': OrderedDict(),\n",
       " 'messages_by_names': {},\n",
       " 'current_turn': 0,\n",
       " 'language': 'en',\n",
       " 'turns': [],\n",
       " 'required_words': ['welcome', 'hello'],\n",
       " 'success': True}"
      ]
     },
     "execution_count": 10,
     "metadata": {},
     "output_type": "execute_result"
    }
   ],
   "source": [
    "hgm.__dict__"
   ]
  },
  {
   "cell_type": "code",
   "execution_count": 11,
   "metadata": {},
   "outputs": [
    {
     "data": {
      "text/plain": [
       "{'name': 'hellogame',\n",
       " 'logger': <Logger __main__ (INFO)>,\n",
       " 'log_current_turn': -1,\n",
       " 'interactions': {'players': OrderedDict([('GM', 'Game master for hellogame'),\n",
       "               ('Player 1', 'Greeter, gpt-4o-mini-2024-07-18'),\n",
       "               ('Player 2', 'Greeted, programmatic')]),\n",
       "  'turns': []},\n",
       " 'requests': [],\n",
       " 'experiment': {'name': 'greet_en',\n",
       "  'game_instances': [{'game_id': 0,\n",
       "    'prompt': \"Your task is to greet and happily welcome the other person with the name:\\n\\nPeter\\n\\nRules:\\n\\n1. You must start your message with 'GREET:'\\n2. Your message must include 'Hello', 'welcome' and the other person's name\\n\\nImportant: You only have one try.\\n\\nLet's start.\",\n",
       "    'target_name': 'Peter'}],\n",
       "  'language': 'en'},\n",
       " 'player_models': [gpt-4o-mini-2024-07-18],\n",
       " 'players_by_names': OrderedDict([('Player 1',\n",
       "               <__main__.Greeter at 0x7f34e1a72320>),\n",
       "              ('Player 2', <__main__.Greeted at 0x7f34e1a73340>)]),\n",
       " 'messages_by_names': {'Player 1': [], 'Player 2': []},\n",
       " 'current_turn': 0,\n",
       " 'language': 'en',\n",
       " 'turns': [],\n",
       " 'required_words': ['welcome', 'hello', 'peter'],\n",
       " 'success': True,\n",
       " 'game_instance': {'game_id': 0,\n",
       "  'prompt': \"Your task is to greet and happily welcome the other person with the name:\\n\\nPeter\\n\\nRules:\\n\\n1. You must start your message with 'GREET:'\\n2. Your message must include 'Hello', 'welcome' and the other person's name\\n\\nImportant: You only have one try.\\n\\nLet's start.\",\n",
       "  'target_name': 'Peter'},\n",
       " 'greeted': <__main__.Greeted at 0x7f34e1a73340>,\n",
       " 'greeter': <__main__.Greeter at 0x7f34e1a72320>}"
      ]
     },
     "execution_count": 11,
     "metadata": {},
     "output_type": "execute_result"
    }
   ],
   "source": [
    "# The class DialogueGameMaster has a method 'setup' which, initializes the players by calling the on_setup method\n",
    "hgm.setup(**this_experiment['game_instances'][0])\n",
    "hgm.__dict__"
   ]
  },
  {
   "cell_type": "code",
   "execution_count": 12,
   "metadata": {},
   "outputs": [
    {
     "data": {
      "text/plain": [
       "{'name': 'hellogame',\n",
       " 'logger': <Logger __main__ (INFO)>,\n",
       " 'log_current_turn': 0,\n",
       " 'interactions': {'players': OrderedDict([('GM', 'Game master for hellogame'),\n",
       "               ('Player 1', 'Greeter, gpt-4o-mini-2024-07-18'),\n",
       "               ('Player 2', 'Greeted, programmatic')]),\n",
       "  'turns': [[{'from': 'GM',\n",
       "     'to': 'Player 1',\n",
       "     'timestamp': '2024-08-30T23:26:25.202504',\n",
       "     'action': {'type': 'send message',\n",
       "      'content': \"Your task is to greet and happily welcome the other person with the name:\\n\\nPeter\\n\\nRules:\\n\\n1. You must start your message with 'GREET:'\\n2. Your message must include 'Hello', 'welcome' and the other person's name\\n\\nImportant: You only have one try.\\n\\nLet's start.\"}},\n",
       "    {'from': 'Player 1',\n",
       "     'to': 'GM',\n",
       "     'timestamp': '2024-08-30T23:26:40.093168',\n",
       "     'action': {'type': 'get message',\n",
       "      'content': \"GREET: Hello Peter, welcome! I'm so glad to have you here!\"}},\n",
       "    {'from': 'GM',\n",
       "     'to': 'Player 2',\n",
       "     'timestamp': '2024-08-30T23:26:40.093550',\n",
       "     'action': {'type': 'send message',\n",
       "      'content': \"GREET: Hello Peter, welcome! I'm so glad to have you here!\"}},\n",
       "    {'from': 'Player 2',\n",
       "     'to': 'GM',\n",
       "     'timestamp': '2024-08-30T23:26:40.093639',\n",
       "     'action': {'type': 'get message',\n",
       "      'content': 'Peter: Hi, thanks for having me!'}}]]},\n",
       " 'requests': [{'timestamp': '2024-08-30T23:26:40.093168',\n",
       "   'manipulated_prompt_obj': [{'role': 'user',\n",
       "     'content': [{'type': 'text',\n",
       "       'text': \"Your task is to greet and happily welcome the other person with the name:\\n\\nPeter\\n\\nRules:\\n\\n1. You must start your message with 'GREET:'\\n2. Your message must include 'Hello', 'welcome' and the other person's name\\n\\nImportant: You only have one try.\\n\\nLet's start.\"}]}],\n",
       "   'raw_response_obj': {'id': 'chatcmpl-A23QdNz30c1bPK7x4ELf3pJnh0sIq',\n",
       "    'choices': [{'finish_reason': 'stop',\n",
       "      'index': 0,\n",
       "      'logprobs': None,\n",
       "      'message': {'content': \"GREET: Hello Peter, welcome! I'm so glad to have you here!\",\n",
       "       'refusal': None,\n",
       "       'role': 'assistant',\n",
       "       'function_call': None,\n",
       "       'tool_calls': None}}],\n",
       "    'created': 1725053199,\n",
       "    'model': 'gpt-4o-mini-2024-07-18',\n",
       "    'object': 'chat.completion',\n",
       "    'service_tier': None,\n",
       "    'system_fingerprint': 'fp_5bd87c427a',\n",
       "    'usage': {'completion_tokens': 16,\n",
       "     'prompt_tokens': 68,\n",
       "     'total_tokens': 84},\n",
       "    'clem_player': {'call_start': '2024-08-30 23:26:25.202961',\n",
       "     'call_duration': '0:00:14.890178',\n",
       "     'response': \"GREET: Hello Peter, welcome! I'm so glad to have you here!\",\n",
       "     'model_name': 'gpt-4o-mini-2024-07-18'}}},\n",
       "  {'timestamp': '2024-08-30T23:26:40.093639',\n",
       "   'manipulated_prompt_obj': [{'role': 'user',\n",
       "     'content': \"GREET: Hello Peter, welcome! I'm so glad to have you here!\"}],\n",
       "   'raw_response_obj': {'clem_player': {'call_start': '2024-08-30 23:26:40.093621',\n",
       "     'call_duration': '0:00:00.000004',\n",
       "     'response': 'Peter: Hi, thanks for having me!',\n",
       "     'model_name': 'programmatic'}}}],\n",
       " 'experiment': {'name': 'greet_en',\n",
       "  'game_instances': [{'game_id': 0,\n",
       "    'prompt': \"Your task is to greet and happily welcome the other person with the name:\\n\\nPeter\\n\\nRules:\\n\\n1. You must start your message with 'GREET:'\\n2. Your message must include 'Hello', 'welcome' and the other person's name\\n\\nImportant: You only have one try.\\n\\nLet's start.\",\n",
       "    'target_name': 'Peter'}],\n",
       "  'language': 'en'},\n",
       " 'player_models': [gpt-4o-mini-2024-07-18],\n",
       " 'players_by_names': OrderedDict([('Player 1',\n",
       "               <__main__.Greeter at 0x7f34e1a72320>),\n",
       "              ('Player 2', <__main__.Greeted at 0x7f34e1a73340>)]),\n",
       " 'messages_by_names': {'Player 1': [{'role': 'user',\n",
       "    'content': \"Your task is to greet and happily welcome the other person with the name:\\n\\nPeter\\n\\nRules:\\n\\n1. You must start your message with 'GREET:'\\n2. Your message must include 'Hello', 'welcome' and the other person's name\\n\\nImportant: You only have one try.\\n\\nLet's start.\"},\n",
       "   {'role': 'assistant',\n",
       "    'content': \"GREET: Hello Peter, welcome! I'm so glad to have you here!\"}],\n",
       "  'Player 2': [{'role': 'user',\n",
       "    'content': \"GREET: Hello Peter, welcome! I'm so glad to have you here!\"},\n",
       "   {'role': 'assistant', 'content': 'Peter: Hi, thanks for having me!'}]},\n",
       " 'current_turn': 1,\n",
       " 'language': 'en',\n",
       " 'turns': [True],\n",
       " 'required_words': ['welcome', 'hello', 'peter'],\n",
       " 'success': True,\n",
       " 'game_instance': {'game_id': 0,\n",
       "  'prompt': \"Your task is to greet and happily welcome the other person with the name:\\n\\nPeter\\n\\nRules:\\n\\n1. You must start your message with 'GREET:'\\n2. Your message must include 'Hello', 'welcome' and the other person's name\\n\\nImportant: You only have one try.\\n\\nLet's start.\",\n",
       "  'target_name': 'Peter'},\n",
       " 'greeted': <__main__.Greeted at 0x7f34e1a73340>,\n",
       " 'greeter': <__main__.Greeter at 0x7f34e1a72320>}"
      ]
     },
     "execution_count": 12,
     "metadata": {},
     "output_type": "execute_result"
    }
   ],
   "source": [
    "hgm.play()\n",
    "hgm.__dict__\n"
   ]
  },
  {
   "cell_type": "markdown",
   "metadata": {},
   "source": [
    "### Results\n",
    "In the end, we have a very detailed Dictionary, that includes all necessary data that you could need when the game was executed. <br>\n",
    "**NOTE:** This definitely has to be studied a bit more detailed, but it already shows why it makes more sense to use the built-in tools to add your own games.\n",
    "\n",
    "There are ways to inspect the results a bit more specific:"
   ]
  },
  {
   "cell_type": "code",
   "execution_count": 13,
   "metadata": {},
   "outputs": [
    {
     "data": {
      "text/plain": [
       "OrderedDict([('GM', 'Game master for hellogame'),\n",
       "             ('Player 1', 'Greeter, gpt-4o-mini-2024-07-18'),\n",
       "             ('Player 2', 'Greeted, programmatic')])"
      ]
     },
     "execution_count": 13,
     "metadata": {},
     "output_type": "execute_result"
    }
   ],
   "source": [
    "hgm.interactions['players']"
   ]
  },
  {
   "cell_type": "code",
   "execution_count": 14,
   "metadata": {},
   "outputs": [
    {
     "data": {
      "text/plain": [
       "[[{'from': 'GM',\n",
       "   'to': 'Player 1',\n",
       "   'timestamp': '2024-08-30T23:26:25.202504',\n",
       "   'action': {'type': 'send message',\n",
       "    'content': \"Your task is to greet and happily welcome the other person with the name:\\n\\nPeter\\n\\nRules:\\n\\n1. You must start your message with 'GREET:'\\n2. Your message must include 'Hello', 'welcome' and the other person's name\\n\\nImportant: You only have one try.\\n\\nLet's start.\"}},\n",
       "  {'from': 'Player 1',\n",
       "   'to': 'GM',\n",
       "   'timestamp': '2024-08-30T23:26:40.093168',\n",
       "   'action': {'type': 'get message',\n",
       "    'content': \"GREET: Hello Peter, welcome! I'm so glad to have you here!\"}},\n",
       "  {'from': 'GM',\n",
       "   'to': 'Player 2',\n",
       "   'timestamp': '2024-08-30T23:26:40.093550',\n",
       "   'action': {'type': 'send message',\n",
       "    'content': \"GREET: Hello Peter, welcome! I'm so glad to have you here!\"}},\n",
       "  {'from': 'Player 2',\n",
       "   'to': 'GM',\n",
       "   'timestamp': '2024-08-30T23:26:40.093639',\n",
       "   'action': {'type': 'get message',\n",
       "    'content': 'Peter: Hi, thanks for having me!'}}]]"
      ]
     },
     "execution_count": 14,
     "metadata": {},
     "output_type": "execute_result"
    }
   ],
   "source": [
    "hgm.interactions['turns']"
   ]
  },
  {
   "cell_type": "code",
   "execution_count": 15,
   "metadata": {},
   "outputs": [
    {
     "data": {
      "text/plain": [
       "True"
      ]
     },
     "execution_count": 15,
     "metadata": {},
     "output_type": "execute_result"
    }
   ],
   "source": [
    "hgm.success"
   ]
  },
  {
   "cell_type": "markdown",
   "metadata": {},
   "source": [
    "NOTE: Add an overall summarization here, as this could become quite important during the implementation of our game."
   ]
  }
 ],
 "metadata": {
  "kernelspec": {
   "display_name": "venv",
   "language": "python",
   "name": "python3"
  },
  "language_info": {
   "codemirror_mode": {
    "name": "ipython",
    "version": 3
   },
   "file_extension": ".py",
   "mimetype": "text/x-python",
   "name": "python",
   "nbconvert_exporter": "python",
   "pygments_lexer": "ipython3",
   "version": "3.10.12"
  }
 },
 "nbformat": 4,
 "nbformat_minor": 2
}
